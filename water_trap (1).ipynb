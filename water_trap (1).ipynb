{
 "cells": [
  {
   "cell_type": "markdown",
   "id": "9646519b",
   "metadata": {},
   "source": [
    "\n",
    "Given N bars each of width 1 unit and length represented in an array.\n",
    "Output the units of water that is going to be trapped.\n",
    "\n",
    "Input: height = [0, 1, 0, 2, 1, 0, 1, 3, 2, 1, 2, 1]\n",
    "Output: 6\n"
   ]
  },
  {
   "cell_type": "code",
   "execution_count": 11,
   "id": "7e36afcf",
   "metadata": {},
   "outputs": [
    {
     "data": {
      "image/png": "[encoded data removed]",
      "text/plain": [
       "<Figure size 432x288 with 1 Axes>"
      ]
     },
     "metadata": {
      "needs_background": "light"
     },
     "output_type": "display_data"
    }
   ],
   "source": [
    "\n",
    "import matplotlib.pyplot as plt\n",
    "height = [0, 1, 0, 2, 1, 0, 1, 3, 2, 1, 2, 1] \n",
    "plt.hist(x=height)\n",
    "plt.show()"
   ]
  },
  {
   "cell_type": "markdown",
   "id": "eb8b2152",
   "metadata": {},
   "source": [
    "# Algorithm:"
   ]
  },
  {
   "cell_type": "markdown",
   "id": "2c42bc68",
   "metadata": {},
   "source": [
    "### Step-1: Build an array left of size 'n' where left[i] represents max height bar that is left to it including ith bar."
   ]
  },
  {
   "cell_type": "markdown",
   "id": "be30fbc7",
   "metadata": {},
   "source": [
    "### Step-2:Build an array right of size 'n' where right[i] represents max height bar that is right to it including ith bar."
   ]
  },
  {
   "cell_type": "markdown",
   "id": "ea99e5ea",
   "metadata": {},
   "source": [
    "### Step-3:Sum=0     Repeat for every ith bar (0<i<n)     sum=sum+min(left[i],right[i])-height[i]"
   ]
  },
  {
   "cell_type": "code",
   "execution_count": 12,
   "id": "13049020",
   "metadata": {},
   "outputs": [
    {
     "name": "stdout",
     "output_type": "stream",
     "text": [
      "[0, 1, 1, 2, 2, 2, 2, 3, 3, 3, 3, 3]\n",
      "[3, 3, 3, 3, 3, 3, 3, 3, 2, 2, 2, 1]\n",
      "6\n"
     ]
    }
   ],
   "source": [
    "def rain_trap(arr):#defining function\n",
    "    size=len(arr)#defining the size as length of array.\n",
    "    water=0 # intializing water variable to 0\n",
    "    \n",
    "    left=size * [0] \n",
    "    right=size* [0]\n",
    "    left[0]=arr[0]\n",
    "    max_so_far_left=arr[0]#allocating first value from the left\n",
    "    for index in range(0,size):\n",
    "        if(max_so_far_left<arr[index]):\n",
    "            max_so_far_left=arr[index]\n",
    "            left[index]=max_so_far_left\n",
    "        else:\n",
    "            left[index]=max_so_far_left\n",
    "    max_so_far_right=arr[-1]#allocating first value from right\n",
    "    for index in range(size-1,-1,-1):\n",
    "        if(max_so_far_right<arr[index]):\n",
    "            max_so_far_right=arr[index]\n",
    "            right[index]=max_so_far_right\n",
    "        else:\n",
    "            right[index]=max_so_far_right\n",
    "    print(left)\n",
    "    print(right)\n",
    "    \n",
    "    for index in range(0,size):\n",
    "        water=water+min(left[index],right[index])-arr[index]\n",
    "    return water\n",
    "\n",
    "A= [0, 1, 0, 2, 1, 0, 1, 3, 2, 1, 2, 1]\n",
    "print(rain_trap(A))\n",
    "\n",
    "        "
   ]
  },
  {
   "cell_type": "code",
   "execution_count": null,
   "id": "5c96cdfa",
   "metadata": {},
   "outputs": [],
   "source": []
  }
 ],
 "metadata": {
  "kernelspec": {
   "display_name": "Python 3 (ipykernel)",
   "language": "python",
   "name": "python3"
  },
  "language_info": {
   "codemirror_mode": {
    "name": "ipython",
    "version": 3
   },
   "file_extension": ".py",
   "mimetype": "text/x-python",
   "name": "python",
   "nbconvert_exporter": "python",
   "pygments_lexer": "ipython3",
   "version": "3.9.7"
  }
 },
 "nbformat": 4,
 "nbformat_minor": 5
}
